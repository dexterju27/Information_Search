{
 "cells": [
  {
   "cell_type": "markdown",
   "metadata": {},
   "source": [
    "# Recheche d'information TME\n",
    "## Da JU"
   ]
  },
  {
   "cell_type": "code",
   "execution_count": 42,
   "metadata": {
    "collapsed": true
   },
   "outputs": [],
   "source": [
    "# import dependency\n",
    "%matplotlib inline\n",
    "from Index import *\n",
    "from QueryParser import *\n",
    "from evaluation.EvalMeasure import *\n",
    "from models.IRmodel import  *\n",
    "from models.Weighter import  *\n",
    "from models.LanguageModel import *\n",
    "from models.Okapi import  *\n",
    "import numpy as np\n",
    "from evaluation.GridSearch import *\n",
    "from models.RandomModel import *\n",
    "from collection.PageRank import *\n",
    "from collection.Hits import *\n",
    "import matplotlib\n",
    "import numpy as np\n",
    "import matplotlib.pyplot as plt\n",
    "import sys\n",
    "from pylab import *\n",
    "def printf(format, *args):\n",
    "    sys.stdout.write(format % args)"
   ]
  },
  {
   "cell_type": "markdown",
   "metadata": {},
   "source": [
    "## Load test query set and corpus\n",
    "The queries will be sorted in irlist. "
   ]
  },
  {
   "cell_type": "code",
   "execution_count": 26,
   "metadata": {
    "collapsed": true
   },
   "outputs": [],
   "source": [
    "index = Index(\"text\")\n",
    "index.indexation('cacm/cacm.txt', './test/')\n",
    "parser = QueryParser()\n",
    "parser.initFile('cacm/cacm.qry', 'cacm/cacm.rel')\n",
    "irlists = []\n",
    "query = parser.nextQuery()\n",
    "while query != None:\n",
    "    irlists.append(IRList(query))\n",
    "    query = parser.nextQuery()"
   ]
  },
  {
   "cell_type": "code",
   "execution_count": 27,
   "metadata": {
    "collapsed": false
   },
   "outputs": [
    {
     "data": {
      "text/plain": [
       "{'algebra': 1,\n",
       " 'intern': 1,\n",
       " 'languag': 1,\n",
       " 'perli': 1,\n",
       " 'preliminari': 1,\n",
       " 'report': 1,\n",
       " 'samelson': 1}"
      ]
     },
     "execution_count": 27,
     "metadata": {},
     "output_type": "execute_result"
    }
   ],
   "source": [
    "index.getTfsForDoc(1)"
   ]
  },
  {
   "cell_type": "markdown",
   "metadata": {},
   "source": [
    "The index is working normally as expected."
   ]
  },
  {
   "cell_type": "markdown",
   "metadata": {},
   "source": [
    "## Weighters\n",
    "As described in the suject, 5 types of weighterVector are implemnted.\n",
    "* weighter1  $w_{t, d} = tf_{t,d}\\ and \\ w_{t,q} = 1 \\ si \\  t\\in q, 0 \\ if \\ not $\n",
    "* weighter2  $w_{t, d} = tf_{t,d}\\ and \\ w_{t,q} = tf_{t, q}$\n",
    "* weighter3 $w_{t, d} = tf_{t,d}\\ and \\ w_{t,q} = idf_{t} \\ si \\ t\\in q, 0 \\ if \\ not $\n",
    "* weighter4  $w_{t, d} = 1 \\ + log(tf_{t,d}) \\ if \\ t\\in d \\ 0 \\ if \\ not \\ and \\ w_{t,q} = idf_{t} \\ si \\ t\\in q, 0 \\ if \\ not $\n",
    "* wighter5  $w_{t, d} = (1 \\ + log(tf_{t,d})) \\times idf_{t} \\ if \\ t\\in d \\ 0 \\ if \\ not \\ and \\ w_{t,q} = (1 \\ + log(tf_{t})) \\times idf_{t} \\ si \\ t\\in q, 0 \\ if \\ not $"
   ]
  },
  {
   "cell_type": "code",
   "execution_count": 28,
   "metadata": {
    "collapsed": true
   },
   "outputs": [],
   "source": [
    "weighter1 = WeighterVector1(index)\n",
    "weighter2 = WeighterVector2(index)\n",
    "weighter3 = WeighterVector3(index)\n",
    "weighter4 = WeighterVector4(index)\n",
    "weighter5 = WeighterVector5(index)"
   ]
  },
  {
   "cell_type": "code",
   "execution_count": 29,
   "metadata": {
    "collapsed": false
   },
   "outputs": [
    {
     "name": "stdout",
     "output_type": "stream",
     "text": [
      "{'samelson': 1, 'algebra': 1, 'preliminari': 1, 'perli': 1, 'intern': 1, 'report': 1, 'languag': 1}\n",
      "{'comput': 1, 'ibm': 1, 'deal': 1, 'share': 1, 'articl': 1, 'exist': 1, 'operat': 1, 'time': 1, 'tss': 1}\n"
     ]
    }
   ],
   "source": [
    "print (weighter1.getDocWeightsForDoc(1))\n",
    "print (weighter1.getWeightsForQuery(irlists[0].query.text))"
   ]
  },
  {
   "cell_type": "code",
   "execution_count": 30,
   "metadata": {
    "collapsed": false
   },
   "outputs": [
    {
     "name": "stdout",
     "output_type": "stream",
     "text": [
      "{'samelson': 1, 'algebra': 1, 'preliminari': 1, 'perli': 1, 'intern': 1, 'report': 1, 'languag': 1}\n",
      "{'comput': 1, 'ibm': 1, 'deal': 1, 'share': 1, 'articl': 1, 'exist': 1, 'operat': 1, 'time': 1, 'tss': 1}\n"
     ]
    }
   ],
   "source": [
    "print (weighter2.getDocWeightsForDoc(1))\n",
    "print (weighter2.getWeightsForQuery(irlists[0].query.text))"
   ]
  },
  {
   "cell_type": "code",
   "execution_count": 31,
   "metadata": {
    "collapsed": false
   },
   "outputs": [
    {
     "name": "stdout",
     "output_type": "stream",
     "text": [
      "{'samelson': 1, 'algebra': 1, 'preliminari': 1, 'perli': 1, 'intern': 1, 'report': 1, 'languag': 1}\n",
      "{'comput': 1.5051910286733308, 'ibm': 3.6239190249380058, 'deal': 3.872640027286491, 'share': 3.4009223334185297, 'articl': 4.004123952424728, 'exist': 3.494515133706941, 'operat': 5.048862267190013, 'time': 2.2350305888409556, 'tss': 4.13668014598143}\n"
     ]
    }
   ],
   "source": [
    "print (weighter3.getDocWeightsForDoc(1))\n",
    "print (weighter3.getWeightsForQuery(irlists[0].query.text))"
   ]
  },
  {
   "cell_type": "code",
   "execution_count": 32,
   "metadata": {
    "collapsed": false
   },
   "outputs": [
    {
     "name": "stdout",
     "output_type": "stream",
     "text": [
      "{'samelson': 1.0, 'algebra': 1.0, 'preliminari': 1.0, 'perli': 1.0, 'intern': 1.0, 'report': 1.0, 'languag': 1.0}\n",
      "{'comput': 1.5051910286733308, 'ibm': 3.6239190249380058, 'deal': 3.872640027286491, 'share': 3.4009223334185297, 'articl': 4.004123952424728, 'exist': 3.494515133706941, 'operat': 5.048862267190013, 'time': 2.2350305888409556, 'tss': 4.13668014598143}\n"
     ]
    }
   ],
   "source": [
    "print (weighter4.getDocWeightsForDoc(1))\n",
    "print (weighter4.getWeightsForQuery(irlists[0].query.text))"
   ]
  },
  {
   "cell_type": "code",
   "execution_count": 33,
   "metadata": {
    "collapsed": false
   },
   "outputs": [
    {
     "name": "stdout",
     "output_type": "stream",
     "text": [
      "{'samelson': 3.9660845914055547, 'algebra': 3.6538426614881265, 'preliminari': 3.8576378639472444, 'perli': 4.037546953962178, 'intern': 3.7943729704892277, 'report': 3.607094402296647, 'languag': 2.638803262023985}\n",
      "{'comput': 1.5051910286733308, 'ibm': 3.6239190249380058, 'deal': 3.872640027286491, 'share': 3.4009223334185297, 'articl': 4.004123952424728, 'exist': 3.494515133706941, 'operat': 5.048862267190013, 'time': 2.2350305888409556, 'tss': 4.13668014598143}\n"
     ]
    }
   ],
   "source": [
    "print (weighter5.getDocWeightsForDoc(1))\n",
    "print (weighter5.getWeightsForQuery(irlists[0].query.text))"
   ]
  },
  {
   "cell_type": "markdown",
   "metadata": {},
   "source": [
    "## Vector model\n",
    "The vector model is based on a weighter and can perfrom the research. we take a model based on weighter 1 for exemple."
   ]
  },
  {
   "cell_type": "code",
   "execution_count": 10,
   "metadata": {
    "collapsed": false
   },
   "outputs": [
    {
     "data": {
      "text/plain": [
       "(1938, 17)"
      ]
     },
     "execution_count": 10,
     "metadata": {},
     "output_type": "execute_result"
    }
   ],
   "source": [
    "model = IRmodelVector(weighter1)\n",
    "result = model.getRanking(irlists[0].query.text)\n",
    "result[0]"
   ]
  },
  {
   "cell_type": "markdown",
   "metadata": {},
   "source": [
    "# Precision-recall\n",
    "We use the famous Precision-recall method to evaluate our model based on 5 weighters. We draw 10 points for the first query as an exemple."
   ]
  },
  {
   "cell_type": "code",
   "execution_count": 11,
   "metadata": {
    "collapsed": false
   },
   "outputs": [
    {
     "data": {
      "text/plain": [
       "<matplotlib.text.Text at 0x105946fd0>"
      ]
     },
     "execution_count": 11,
     "metadata": {},
     "output_type": "execute_result"
    },
    {
     "data": {
      "image/png": "[encoded data removed]",
      "text/plain": [
       "<matplotlib.figure.Figure at 0x10609b490>"
      ]
     },
     "metadata": {},
     "output_type": "display_data"
    }
   ],
   "source": [
    "irlists[10].list = model.getRanking(irlists[10].query.text)\n",
    "rater = PresitionRappel(20)\n",
    "scores = rater.eval(irlists[10])\n",
    "scores = sorted(scores.items(), key=operator.itemgetter(0))\n",
    "recall = [x[0] for x in scores]\n",
    "pre = [x[1] for x in scores]\n",
    "plt.plot(recall, pre)\n",
    "plt.xlabel(\"Rappel\")\n",
    "plt.ylabel(\"Precision\")"
   ]
  },
  {
   "cell_type": "code",
   "execution_count": 12,
   "metadata": {
    "collapsed": false
   },
   "outputs": [
    {
     "name": "stdout",
     "output_type": "stream",
     "text": [
      "The AP of model with query 10 is : 0.258271"
     ]
    }
   ],
   "source": [
    "rater = AP(20)\n",
    "printf(\"The AP of model with query 10 is : %f\", rater.eval(irlists[10]))"
   ]
  },
  {
   "cell_type": "markdown",
   "metadata": {},
   "source": [
    "## Evaluation plateform\n",
    "In this section, we use ap as mesure. we will mesure the performance of five different weighters with vector model"
   ]
  },
  {
   "cell_type": "code",
   "execution_count": 34,
   "metadata": {
    "collapsed": false
   },
   "outputs": [],
   "source": [
    "models = []\n",
    "models.append(IRmodelVector(weighter1))\n",
    "models.append(IRmodelVector(weighter2))\n",
    "models.append(IRmodelVector(weighter3))\n",
    "models.append(IRmodelVector(weighter4))\n",
    "models.append(IRmodelVector(weighter5))\n",
    "eval = EvalIRModel(models, irlists, 10)\n",
    "scores_mean_1, scores_std_1 = eval.evalModels()"
   ]
  },
  {
   "cell_type": "code",
   "execution_count": 37,
   "metadata": {
    "collapsed": false
   },
   "outputs": [
    {
     "data": {
      "text/plain": [
       "[0.14064478206308048,\n",
       " 0.13981133036677854,\n",
       " 0.16250619090854626,\n",
       " 0.16853807204363594,\n",
       " 0.1684738274879671]"
      ]
     },
     "execution_count": 37,
     "metadata": {},
     "output_type": "execute_result"
    }
   ],
   "source": [
    "scores_std_1"
   ]
  },
  {
   "cell_type": "code",
   "execution_count": 49,
   "metadata": {
    "collapsed": false
   },
   "outputs": [
    {
     "data": {
      "text/plain": [
       "(0.04, 0.12)"
      ]
     },
     "execution_count": 49,
     "metadata": {},
     "output_type": "execute_result"
    },
    {
     "data": {
      "image/png": "[encoded data removed]",
      "text/plain": [
       "<matplotlib.figure.Figure at 0x1090dac10>"
      ]
     },
     "metadata": {},
     "output_type": "display_data"
    }
   ],
   "source": [
    "txt = 'weighter'\n",
    "fig, ax = plt.subplots()\n",
    "for i in range(5):\n",
    "    ax.annotate(txt + str(i), (scores_mean_1[i],scores_mean_1[i]))\n",
    "plt.xlabel('mean score')\n",
    "plt.ylabel('score std')\n",
    "ylim([0.04, 0.12])\n",
    "xlim([0.04, 0.12])"
   ]
  },
  {
   "cell_type": "markdown",
   "metadata": {},
   "source": [
    "We can see, each time the model gets better."
   ]
  },
  {
   "cell_type": "markdown",
   "metadata": {
    "collapsed": true
   },
   "source": [
    "## Language model & Okapi\n",
    "for each model, we will perfrom a grid search in order to find the optimum. These models will combine with weighter1.\n"
   ]
  },
  {
   "cell_type": "code",
   "execution_count": 17,
   "metadata": {
    "collapsed": true
   },
   "outputs": [],
   "source": [
    "models = []\n",
    "models.append(LanguageModel(weighter1, 0.1))\n",
    "models.append(Okapi(weighter1, 1.5 ,0.75))\n",
    "eval = EvalIRModel(models, irlists, 20)\n",
    "scores_mean, scores_std = eval.evalModels()"
   ]
  },
  {
   "cell_type": "code",
   "execution_count": 22,
   "metadata": {
    "collapsed": false
   },
   "outputs": [
    {
     "data": {
      "text/plain": [
       "<matplotlib.text.Text at 0x106a09850>"
      ]
     },
     "execution_count": 22,
     "metadata": {},
     "output_type": "execute_result"
    },
    {
     "data": {
      "image/png": "[encoded data removed]",
      "text/plain": [
       "<matplotlib.figure.Figure at 0x1060c57d0>"
      ]
     },
     "metadata": {},
     "output_type": "display_data"
    }
   ],
   "source": [
    "n = ['LanguageModel', 'Okapi']\n",
    "fig, ax = plt.subplots()\n",
    "for i, txt in enumerate(n):\n",
    "    ax.annotate(txt, (scores_mean[i],scores_std[i]))\n",
    "plt.scatter(scores_mean, scores_std)\n",
    "plt.xlabel('mean score')\n",
    "plt.ylabel('score std')"
   ]
  },
  {
   "cell_type": "markdown",
   "metadata": {},
   "source": [
    "### Grid Search\n",
    "for lam from 0 - 0.99 in language model"
   ]
  },
  {
   "cell_type": "code",
   "execution_count": 18,
   "metadata": {
    "collapsed": false
   },
   "outputs": [
    {
     "name": "stdout",
     "output_type": "stream",
     "text": [
      "0.33\n"
     ]
    }
   ],
   "source": [
    "models = []\n",
    "lams = np.linspace(0, 0.99, 10)\n",
    "for lam in lams:\n",
    "    models.append(LanguageModel(weighter1, lam))\n",
    "search = GridSearch(models, irlists, 10)\n",
    "print (search.optimisation())"
   ]
  },
  {
   "cell_type": "markdown",
   "metadata": {
    "collapsed": true
   },
   "source": [
    "The best parameter is lambda = 0.33"
   ]
  },
  {
   "cell_type": "code",
   "execution_count": 52,
   "metadata": {
    "collapsed": false
   },
   "outputs": [
    {
     "ename": "TypeError",
     "evalue": "ufunc 'add' did not contain a loop with signature matching types dtype('S32') dtype('S32') dtype('S32')",
     "output_type": "error",
     "traceback": [
      "\u001b[0;31m---------------------------------------------------------------------------\u001b[0m",
      "\u001b[0;31mTypeError\u001b[0m                                 Traceback (most recent call last)",
      "\u001b[0;32m<ipython-input-52-b88e7b3cb136>\u001b[0m in \u001b[0;36m<module>\u001b[0;34m()\u001b[0m\n\u001b[1;32m      6\u001b[0m         \u001b[0mmodels\u001b[0m\u001b[0;34m.\u001b[0m\u001b[0mappend\u001b[0m\u001b[0;34m(\u001b[0m\u001b[0mOkapi\u001b[0m\u001b[0;34m(\u001b[0m\u001b[0mweighter1\u001b[0m\u001b[0;34m,\u001b[0m \u001b[0mb\u001b[0m \u001b[0;34m,\u001b[0m\u001b[0mk1\u001b[0m\u001b[0;34m)\u001b[0m\u001b[0;34m)\u001b[0m\u001b[0;34m\u001b[0m\u001b[0m\n\u001b[1;32m      7\u001b[0m \u001b[0msearch\u001b[0m \u001b[0;34m=\u001b[0m \u001b[0mGridSearch\u001b[0m\u001b[0;34m(\u001b[0m\u001b[0mmodels\u001b[0m\u001b[0;34m,\u001b[0m \u001b[0mirlists\u001b[0m\u001b[0;34m,\u001b[0m \u001b[0;36m10\u001b[0m\u001b[0;34m)\u001b[0m\u001b[0;34m\u001b[0m\u001b[0m\n\u001b[0;32m----> 8\u001b[0;31m \u001b[0;32mprint\u001b[0m \u001b[0;34m(\u001b[0m\u001b[0msearch\u001b[0m\u001b[0;34m.\u001b[0m\u001b[0moptimisation\u001b[0m\u001b[0;34m(\u001b[0m\u001b[0;34m)\u001b[0m\u001b[0;34m)\u001b[0m\u001b[0;34m\u001b[0m\u001b[0m\n\u001b[0m",
      "\u001b[0;32m/Users/dexter/OneDrive/Master DAC/RI/TME1/RI/evaluation/GridSearch.pyc\u001b[0m in \u001b[0;36moptimisation\u001b[0;34m(self)\u001b[0m\n\u001b[1;32m     20\u001b[0m     \u001b[0;32mdef\u001b[0m \u001b[0moptimisation\u001b[0m\u001b[0;34m(\u001b[0m\u001b[0mself\u001b[0m\u001b[0;34m)\u001b[0m\u001b[0;34m:\u001b[0m\u001b[0;34m\u001b[0m\u001b[0m\n\u001b[1;32m     21\u001b[0m         \u001b[0meval\u001b[0m \u001b[0;34m=\u001b[0m \u001b[0mEvalIRModel\u001b[0m\u001b[0;34m(\u001b[0m\u001b[0mself\u001b[0m\u001b[0;34m.\u001b[0m\u001b[0mmodels\u001b[0m\u001b[0;34m,\u001b[0m \u001b[0mself\u001b[0m\u001b[0;34m.\u001b[0m\u001b[0mirlists\u001b[0m\u001b[0;34m,\u001b[0m  \u001b[0mself\u001b[0m\u001b[0;34m.\u001b[0m\u001b[0mnbLevel\u001b[0m\u001b[0;34m)\u001b[0m\u001b[0;34m\u001b[0m\u001b[0m\n\u001b[0;32m---> 22\u001b[0;31m         \u001b[0mself\u001b[0m\u001b[0;34m.\u001b[0m\u001b[0mscores_mean\u001b[0m\u001b[0;34m,\u001b[0m \u001b[0mself\u001b[0m\u001b[0;34m.\u001b[0m\u001b[0mscores_std\u001b[0m \u001b[0;34m=\u001b[0m \u001b[0meval\u001b[0m\u001b[0;34m.\u001b[0m\u001b[0mevalModels\u001b[0m\u001b[0;34m(\u001b[0m\u001b[0;34m)\u001b[0m\u001b[0;34m\u001b[0m\u001b[0m\n\u001b[0m\u001b[1;32m     23\u001b[0m         \u001b[0mscores_mean\u001b[0m \u001b[0;34m=\u001b[0m \u001b[0mnp\u001b[0m\u001b[0;34m.\u001b[0m\u001b[0marray\u001b[0m\u001b[0;34m(\u001b[0m\u001b[0mself\u001b[0m\u001b[0;34m.\u001b[0m\u001b[0mscores_mean\u001b[0m\u001b[0;34m)\u001b[0m\u001b[0;34m\u001b[0m\u001b[0m\n\u001b[1;32m     24\u001b[0m         \u001b[0;32mreturn\u001b[0m \u001b[0mself\u001b[0m\u001b[0;34m.\u001b[0m\u001b[0mmodels\u001b[0m\u001b[0;34m[\u001b[0m\u001b[0mscores_mean\u001b[0m\u001b[0;34m.\u001b[0m\u001b[0margmax\u001b[0m\u001b[0;34m(\u001b[0m\u001b[0;34m)\u001b[0m\u001b[0;34m]\u001b[0m\u001b[0;34m.\u001b[0m\u001b[0mgetParams\u001b[0m\u001b[0;34m(\u001b[0m\u001b[0;34m)\u001b[0m\u001b[0;34m\u001b[0m\u001b[0m\n",
      "\u001b[0;32m/Users/dexter/OneDrive/Master DAC/RI/TME1/RI/models/Okapi.pyc\u001b[0m in \u001b[0;36mgetParams\u001b[0;34m(self)\u001b[0m\n\u001b[1;32m     16\u001b[0m \u001b[0;34m\u001b[0m\u001b[0m\n\u001b[1;32m     17\u001b[0m     \u001b[0;32mdef\u001b[0m \u001b[0mgetParams\u001b[0m\u001b[0;34m(\u001b[0m\u001b[0mself\u001b[0m\u001b[0;34m)\u001b[0m\u001b[0;34m:\u001b[0m\u001b[0;34m\u001b[0m\u001b[0m\n\u001b[0;32m---> 18\u001b[0;31m         \u001b[0;32mprint\u001b[0m \u001b[0;34m(\u001b[0m\u001b[0;34m\"k1 is :\"\u001b[0m \u001b[0;34m+\u001b[0m \u001b[0mself\u001b[0m\u001b[0;34m.\u001b[0m\u001b[0mk1\u001b[0m\u001b[0;34m)\u001b[0m\u001b[0;34m\u001b[0m\u001b[0m\n\u001b[0m\u001b[1;32m     19\u001b[0m         \u001b[0;32mprint\u001b[0m \u001b[0;34m(\u001b[0m\u001b[0;34m\"b is :\"\u001b[0m \u001b[0;34m+\u001b[0m \u001b[0mself\u001b[0m\u001b[0;34m.\u001b[0m\u001b[0mb\u001b[0m\u001b[0;34m)\u001b[0m\u001b[0;34m\u001b[0m\u001b[0m\n\u001b[1;32m     20\u001b[0m         \u001b[0;32mreturn\u001b[0m\u001b[0;34m\u001b[0m\u001b[0m\n",
      "\u001b[0;31mTypeError\u001b[0m: ufunc 'add' did not contain a loop with signature matching types dtype('S32') dtype('S32') dtype('S32')"
     ]
    }
   ],
   "source": [
    "models = []\n",
    "bs = np.linspace(0, 0.99, 5)\n",
    "k1s = np.linspace(1.01, 1.99, 5)\n",
    "for b in bs:\n",
    "    for k1 in k1s:\n",
    "        models.append(Okapi(weighter1, b ,k1))\n",
    "search = GridSearch(models, irlists, 10)\n",
    "print (search.optimisation())"
   ]
  },
  {
   "cell_type": "code",
   "execution_count": null,
   "metadata": {
    "collapsed": true
   },
   "outputs": [],
   "source": []
  }
 ],
 "metadata": {
  "kernelspec": {
   "display_name": "Python 2",
   "language": "python",
   "name": "python2"
  },
  "language_info": {
   "codemirror_mode": {
    "name": "ipython",
    "version": 2
   },
   "file_extension": ".py",
   "mimetype": "text/x-python",
   "name": "python",
   "nbconvert_exporter": "python",
   "pygments_lexer": "ipython2",
   "version": "2.7.12"
  }
 },
 "nbformat": 4,
 "nbformat_minor": 0
}
